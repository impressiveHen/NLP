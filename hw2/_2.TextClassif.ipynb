{
 "cells": [
  {
   "cell_type": "markdown",
   "metadata": {},
   "source": [
    "# Spring 2019 Statistical NLP, UCSD\n",
    "Programming Assignment 2: Text Classification <br>\n"
   ]
  },
  {
   "cell_type": "code",
   "execution_count": 17,
   "metadata": {},
   "outputs": [],
   "source": [
    "import sentiment as sentimentinterface\n",
    "import classify \n",
    "import timeit\n",
    "import numpy as np\n",
    "\n",
    "import matplotlib.pyplot as plt\n",
    "plt.switch_backend('agg')\n",
    "import matplotlib.ticker as ticker\n",
    "%matplotlib inline"
   ]
  },
  {
   "cell_type": "markdown",
   "metadata": {},
   "source": [
    "## 1. Inspect the Feature representation"
   ]
  },
  {
   "cell_type": "code",
   "execution_count": 2,
   "metadata": {},
   "outputs": [
    {
     "name": "stdout",
     "output_type": "stream",
     "text": [
      "Reading data\n",
      "-- train data\n",
      "sentiment/train.tsv\n",
      "4582\n",
      "-- dev data\n",
      "sentiment/dev.tsv\n",
      "458\n",
      "-- transforming data and labels\n"
     ]
    }
   ],
   "source": [
    "print(\"Reading data\")\n",
    "tarfname = \"data/sentiment.tar.gz\"\n",
    "sentiment = sentimentinterface.read_files(tarfname)\n",
    "    "
   ]
  },
  {
   "cell_type": "code",
   "execution_count": 43,
   "metadata": {},
   "outputs": [
    {
     "name": "stdout",
     "output_type": "stream",
     "text": [
      "Went last night for the first time with my boyfriend. Let me start off by saying I'm vegetarian, but my boyfriend is not. I ordered the chicken v mushroom, it\n",
      "~~~~~~~~~~~~~~~~~~~~~~~~~~~~~~~~~~~~~~~~~~~~~~~~~~\n",
      "['boyfriend' 'but' 'by' 'chicken' 'first' 'for' 'is' 'it' 'last' 'let'\n",
      " 'me' 'mushroom' 'my' 'night' 'not' 'off' 'ordered' 'saying' 'start' 'the'\n",
      " 'time' 'vegetarian' 'went' 'with']\n",
      "[0 0 0 ... 0 0 0]   (0, 1266)\t2\n",
      "  (0, 1452)\t1\n",
      "  (0, 1470)\t1\n",
      "  (0, 1791)\t1\n",
      "  (0, 3468)\t1\n",
      "  (0, 3581)\t1\n",
      "  (0, 4653)\t1\n",
      "  (0, 4665)\t1\n",
      "  (0, 4997)\t1\n",
      "  (0, 5090)\t1\n",
      "  (0, 5487)\t1\n",
      "  (0, 5810)\t1\n",
      "  (0, 5821)\t2\n",
      "  (0, 5927)\t1\n",
      "  (0, 5981)\t1\n",
      "  (0, 6057)\t1\n",
      "  (0, 6150)\t1\n",
      "  (0, 7572)\t1\n",
      "  (0, 8278)\t1\n",
      "  (0, 8764)\t2\n",
      "  (0, 8864)\t1\n",
      "  (0, 9333)\t1\n",
      "  (0, 9592)\t1\n",
      "  (0, 9689)\t1\n",
      "(9882,)\n"
     ]
    }
   ],
   "source": [
    "array = sentiment.trainX # the vocabulary dictionary and return term-document matrix\n",
    "print(sentiment.train_data[0]) # the first entry in training data\n",
    "X = sentiment.trainX # term-document matrix; \n",
    "#print(X.toarray().shape) #X : array, [n_samples, n_features]\n",
    "print('~'*50)\n",
    "print(sentiment.count_vect.inverse_transform(X)[0]) # Return terms with nonzero entries in X[0].\n",
    "X_arr = X.toarray()\n",
    "#print(X)\n",
    "print(X_arr[0], X[0])\n",
    "# X_arr is [0,0,0,1,0,1,2,0] where length is number of features(words) so 0 means that \n",
    "# feature(word) appears in that sentence 0 times \n",
    "print(X_arr[0].shape)"
   ]
  },
  {
   "cell_type": "code",
   "execution_count": 4,
   "metadata": {},
   "outputs": [
    {
     "name": "stdout",
     "output_type": "stream",
     "text": [
      "ordered\n",
      "chicken\n"
     ]
    }
   ],
   "source": [
    "print((sentiment.count_vect.get_feature_names()[6150])) # map id to word\n",
    "print((sentiment.count_vect.get_feature_names()[1791]))\n"
   ]
  },
  {
   "cell_type": "markdown",
   "metadata": {},
   "source": [
    "# 2. Inspect the label representation"
   ]
  },
  {
   "cell_type": "code",
   "execution_count": 5,
   "metadata": {},
   "outputs": [
    {
     "name": "stdout",
     "output_type": "stream",
     "text": [
      "target labels  ['NEGATIVE' 'POSITIVE']\n",
      "target labels  [1 1 0 0 1]\n",
      "['NEGATIVE', 'POSITIVE']\n",
      "[0, 1]\n",
      "['POSITIVE', 'POSITIVE', 'NEGATIVE', 'NEGATIVE', 'POSITIVE']\n"
     ]
    }
   ],
   "source": [
    "print('target labels ', sentiment.target_labels)\n",
    "print('target labels ', sentiment.trainy[:5]) # show the labels of the first 5 training examples\n",
    "print(list(sentiment.le.classes_))\n",
    "print(list(sentiment.le.transform(['NEGATIVE', 'POSITIVE'])))\n",
    "print(list(sentiment.le.inverse_transform(list(sentiment.trainy[:5]))))\n"
   ]
  },
  {
   "cell_type": "markdown",
   "metadata": {},
   "source": [
    "# 3. Take a look at the data"
   ]
  },
  {
   "cell_type": "code",
   "execution_count": 67,
   "metadata": {},
   "outputs": [
    {
     "name": "stdout",
     "output_type": "stream",
     "text": [
      "Got there on a Saturday night around 6:50pm We were seated right away. Heather was our server. She was amazing! The food was great. I had the filet and it\n"
     ]
    },
    {
     "data": {
      "image/png": "[encoded data removed]",
      "text/plain": [
       "<Figure size 432x288 with 1 Axes>"
      ]
     },
     "metadata": {
      "needs_background": "light"
     },
     "output_type": "display_data"
    }
   ],
   "source": [
    "print(sentiment.train_data[31])\n",
    "\n",
    "lens = []\n",
    "# histogram of sentence length\n",
    "for review in sentiment.train_data:\n",
    "    lens.append(len(review.split()))\n",
    "plt.hist(lens, color='m')\n",
    "plt.axvline(np.mean(lens), color='c', linestyle='dashed', linewidth=2,label='mean review length: '+str(np.mean(lens)))\n",
    "plt.legend()\n",
    "plt.show()"
   ]
  },
  {
   "cell_type": "markdown",
   "metadata": {},
   "source": [
    "# 4. Train the classifier"
   ]
  },
  {
   "cell_type": "code",
   "execution_count": 7,
   "metadata": {},
   "outputs": [],
   "source": [
    "cls = classify.train_classifier(sentiment.trainX, sentiment.trainy)"
   ]
  },
  {
   "cell_type": "markdown",
   "metadata": {},
   "source": [
    "# 5. What are the decisive features"
   ]
  },
  {
   "cell_type": "code",
   "execution_count": 60,
   "metadata": {},
   "outputs": [
    {
     "name": "stdout",
     "output_type": "stream",
     "text": [
      "[0 1]\n",
      "[[-0.4699021  -0.14974475 -0.01504293 ... -0.18610622 -0.18610622\n",
      "  -0.18610622]]\n",
      "(1, 9882)\n",
      "--------------------------------------------------\n",
      "Top k=20\n",
      "--------------------------------------------------\n",
      "professional\n",
      "courteous\n",
      "quickly\n",
      "important\n",
      "friendly\n",
      "style\n",
      "lucky\n",
      "love\n",
      "pleased\n",
      "spot\n",
      "montreal\n",
      "favorite\n",
      "perfect\n",
      "best\n",
      "great\n",
      "easy\n",
      "awesome\n",
      "delicious\n",
      "amazing\n",
      "excellent\n",
      "--------------------------------------------------\n",
      "Bottom k=20\n",
      "--------------------------------------------------\n",
      "worst\n",
      "horrible\n",
      "terrible\n",
      "disappointing\n",
      "average\n",
      "meh\n",
      "excited\n",
      "overpriced\n",
      "bland\n",
      "rude\n",
      "seems\n",
      "rather\n",
      "instead\n",
      "disappointment\n",
      "hopes\n",
      "disappointed\n",
      "dirty\n",
      "tasted\n",
      "awful\n",
      "weeks\n"
     ]
    }
   ],
   "source": [
    "coefficients=cls.coef_[0]\n",
    "print(cls.classes_)\n",
    "print(cls.coef_)\n",
    "print(cls.coef_.shape)\n",
    "k = 20\n",
    "# get top_k positive coefficients -> positive coefficients tends to make prediction positive \n",
    "# -> meaning positive features(words)\n",
    "top_k =np.argsort(coefficients)[-k:]\n",
    "top_k_words = []\n",
    "\n",
    "print('-'*50)\n",
    "print('Top k=%d' %k)\n",
    "print('-'*50)\n",
    "\n",
    "for i in top_k:\n",
    "    print(sentiment.count_vect.get_feature_names()[i])\n",
    "    top_k_words.append(sentiment.count_vect.get_feature_names()[i])\n",
    "#print(sentiment.count_ve\n",
    "print('-'*50)\n",
    "print('Bottom k=%d' %k)\n",
    "print('-'*50)\n",
    "#top_k = np.argpartition(coefficients, -k)[-k:]\n",
    "bottom_k =np.argsort(coefficients)[:k]\n",
    "bottom_k_words = []\n",
    "#print(top_k)\n",
    "for i in bottom_k:\n",
    "    print(sentiment.count_vect.get_feature_names()[i])\n",
    "    bottom_k_words.append(sentiment.count_vect.get_feature_names()[i])\n",
    "\n",
    "#print(sentiment.count_ve"
   ]
  },
  {
   "cell_type": "markdown",
   "metadata": {},
   "source": [
    "# 6. How is the classifier doing edge cases\n",
    "\n",
    "## 6 a) reviews that contain top-k words\n",
    " in this case we expect predictions to be mostly POSITIVE (i.e LABEL=1)\n"
   ]
  },
  {
   "cell_type": "code",
   "execution_count": 61,
   "metadata": {},
   "outputs": [
    {
     "name": "stdout",
     "output_type": "stream",
     "text": [
      "  Accuracy on these reviews  is: 0.8366013071895425\n",
      "(153, 2)\n"
     ]
    },
    {
     "data": {
      "image/png": "[encoded data removed]",
      "text/plain": [
       "<Figure size 432x288 with 1 Axes>"
      ]
     },
     "metadata": {
      "needs_background": "light"
     },
     "output_type": "display_data"
    }
   ],
   "source": [
    "top_k_reviews = []\n",
    "top_k_labels = []\n",
    "for j in range(len(sentiment.dev_data)):\n",
    "    # check if top_k_words (positive words) are in this sentence\n",
    "    review = sentiment.dev_data[j]\n",
    "    for word in top_k_words:\n",
    "        if word in review:\n",
    "            top_k_reviews.append(review)\n",
    "            top_k_labels.append(sentiment.dev_labels[j])\n",
    "            break\n",
    "    \n",
    "        #print(review)\n",
    "dev_X = sentiment.count_vect.transform(top_k_reviews)\n",
    "classify.evaluate(dev_X, sentiment.le.transform(top_k_labels), cls, 'these reviews')\n",
    "\n",
    "# estimate the accuracy of data with top_k positive words  \n",
    "# Probability estimates:\n",
    "yp = cls.predict_proba(dev_X) \n",
    "# [n_samples, n_classes]\n",
    "print(yp.shape)\n",
    "plt.plot(yp[:,0],'b.') # ['0: NEGATIVE', '1:POSITIVE'] \n",
    "plt.plot(yp[:,1],'ro') \n",
    "plt.title('Classifier Predictions on reviews with topk words (highly positive)')\n",
    "plt.ylabel('Predicted score')\n",
    "plt.xlabel('Example #')\n",
    "plt.show()"
   ]
  },
  {
   "cell_type": "markdown",
   "metadata": {},
   "source": [
    "## 6b) reviews that contain bottom-k words\n",
    " in this case we expect predictions to be mostly NEGATIVE (i.e LABEL=0)"
   ]
  },
  {
   "cell_type": "code",
   "execution_count": 53,
   "metadata": {},
   "outputs": [
    {
     "name": "stdout",
     "output_type": "stream",
     "text": [
      "  Accuracy on these reviews  is: 0.9473684210526315\n",
      "[29 30 20 15 34 18 11 32 16 27  2  7 35 36 21  6 13 37  0 33 22  3 26 10\n",
      "  8  4 24 23  1  9 12 14 31  5 19 28 25 17]\n"
     ]
    },
    {
     "data": {
      "image/png": "[encoded data removed]",
      "text/plain": [
       "<Figure size 432x288 with 1 Axes>"
      ]
     },
     "metadata": {
      "needs_background": "light"
     },
     "output_type": "display_data"
    }
   ],
   "source": [
    "bottom_k_reviews = []\n",
    "bottom_k_labels = []\n",
    "for j in range(len(sentiment.dev_data)):\n",
    "    review = sentiment.dev_data[j]\n",
    "    for word in bottom_k_words:\n",
    "        if word in review:\n",
    "            bottom_k_reviews.append(review)\n",
    "            bottom_k_labels.append(sentiment.dev_labels[j])\n",
    "            break\n",
    "    \n",
    "        #print(review)\n",
    "dev_X = sentiment.count_vect.transform(bottom_k_reviews)\n",
    "classify.evaluate(dev_X, sentiment.le.transform(bottom_k_labels), cls, 'these reviews')\n",
    "yp = cls.predict_proba(dev_X) \n",
    "diff = abs(yp[:,0] - yp[:,1])\n",
    "print(np.argsort(-diff))\n",
    "#print(yp.shape)\n",
    "plt.plot(yp[:,0],'b.') # ['0: NEGATIVE', '1:POSITIVE'] \n",
    "plt.plot(yp[:,1],'ro') \n",
    "plt.show()"
   ]
  },
  {
   "cell_type": "markdown",
   "metadata": {},
   "source": [
    "# Feature engineering - Tuning"
   ]
  },
  {
   "cell_type": "code",
   "execution_count": 11,
   "metadata": {},
   "outputs": [
    {
     "name": "stdout",
     "output_type": "stream",
     "text": [
      "  Accuracy on training  is: 0.9821038847664775\n",
      "  Accuracy on dev  is: 0.777292576419214\n"
     ]
    }
   ],
   "source": [
    "# original accuracy \n",
    "classify.evaluate(sentiment.trainX, sentiment.trainy, cls, 'training')\n",
    "classify.evaluate(sentiment.devX, sentiment.devy, cls, 'dev')"
   ]
  },
  {
   "cell_type": "code",
   "execution_count": 30,
   "metadata": {},
   "outputs": [
    {
     "name": "stdout",
     "output_type": "stream",
     "text": [
      "['10pm', '1oak', '32am', '43', '5min', '99', 'abolutely', 'accepting', 'accompanies', 'accordion', 'activate', 'adam', 'advantage', 'affordably', 'afternoon', 'afterschool', 'albuquerque', 'allergist', 'allowing', 'amongs', 'anti', 'anyday', 'appaled', 'appreciates', 'appreciation', 'arugula', 'asshole', 'at10', 'atb', 'audition', 'bacchus', 'bachelor', 'backyard', 'bald', 'barbeque', 'barstow', 'bartolotta', 'baseboard', 'basis', 'bass', 'basted', 'battered', 'bday', 'bear', 'beautifully', 'beginning', 'belgians', 'belt', 'billing', 'biscuit', 'blander', 'blowing', 'blurry', 'boca', 'bogus', 'bologna', 'booker', 'booze', 'boulud', 'briana', 'brie', 'brownish', 'bruchetta', 'brush', 'brussel', 'brûlée', 'bucco', 'buffalo', 'busboy', 'bushes', 'buyer', 'calcium', 'canard', 'carlitos', 'carries', 'carrot', 'castro', 'celebrating', 'cemented', 'certificate', 'certificates', 'certified', 'chainbreaker', 'chairs', 'charger', 'chilly', 'chimichuri', 'church', 'churro', 'cigarettes', 'classifies', 'claw', 'clientèle', 'clumped', 'coaches', 'cobbler', 'competitively', 'complained', 'complex', 'concentrate', 'condiments', 'contract', 'coolspot', 'coriace', 'cotswold', 'courses', 'crown', 'curtains', 'customized', 'dab', 'danielle', 'dawgs', 'daycare', 'decision', 'decorations', 'deeelish', 'demand', 'descent', 'devils', 'directly', 'discussed', 'disorganized', 'disrespectful', 'doggies', 'doughey', 'downloaded', 'during', 'eat', 'electronics', 'elli', 'elote', 'empyee', 'enlève', 'entered', 'entirely', 'entrees', 'erin', 'escargots', 'essence', 'ew', 'example', 'exceptional', 'exotic', 'expiring', 'extraordinarily', 'eyebrow', 'fabric', 'fabulously', 'faith', 'fantasies', 'fasuliya', 'favors', 'fighting', 'filli', 'finds', 'fixing', 'flavour', 'fletcher', 'florida', 'flowing', 'flung', 'flute', 'focus', 'focuses', 'foil', 'folded', 'fork', 'fortunes', 'freezing', 'fulfill', 'full', 'gai', 'gals', 'gambling', 'ganz', 'gazpacho', 'gene', 'gets', 'glen', 'going', 'gong', 'greets', 'gym', 'gymboree', 'habanero', 'handle', 'haunt', 'heartbeats', 'hefty', 'hekgt9wr5z5lta', 'help', 'herself', 'hills', 'hillside', 'hipster', 'hipsters', 'hooter', 'horseradish', 'hrid', 'huddled', 'hummous', 'idiotic', 'immaculate', 'in', 'incroyable', 'infested', 'installing', 'instant', 'inventory', 'investment', 'iphones', 'irritation', 'jail', 'jay', 'jeep', 'jim', 'johnson', 'jus', 'kabul', 'karts', 'kayla', 'kelly', 'kha', 'killed', 'korma', 'kw', 'laos', 'lapels', 'lasted', 'lather', 'laveen', 'leap', 'lemonade', 'libations', 'liking', 'linda', 'listening', 'liter', 'llx', 'lock', 'lois', 'luch', 'lying', 'macarons', 'madtown', 'magic', 'mahvelous', 'mai', 'mailed', 'managers', 'marchmont', 'marjerle', 'marshmallow', 'mateo', 'mcdonalds', 'mcdowell', 'med', 'melted', 'memorabilia', 'mentioned', 'metrocenter', 'mezcal', 'minnesota', 'misc', 'mixed', 'mixto', 'mmmm', 'monta', 'montréal', 'motioned', 'mouse', 'mto', 'muffins', 'multipoo', 'mushy', 'mutton', 'neared', 'need', 'neighbor', 'newcastle', 'niru', 'nissin', 'nitro', 'nopales', 'noticeable', 'oki', 'one', 'oooo', 'openers', 'orbitz', 'outright', 'overlooked', 'overnight', 'overshadowed', 'owns', 'painkiller', 'painted', 'palak', 'palazzo', 'panang', 'panko', 'papago', 'pared', 'pass', 'paths', 'peels', 'photography', 'pinky', 'pita', 'pitched', 'player', 'plays', 'po', 'porter', 'postal', 'posts', 'potions', 'precision', 'preis', 'preparation', 'pretentious', 'primetime', 'professionally', 'program', 'ps', 'puffs', 'puke', 'pulling', 'purses', 'quotes', 'r79ifdf', 'rampart', 'rays', 'razor', 'rear', 'recieve', 'record', 'reds', 'refi', 'regina', 'remarkably', 'reported', 'represented', 'rescheduling', 'residue', 'responsible', 'restaurantfive', 'resturant', 'rick', 'ricotta', 'ridged', 'ring', 'ritual', 'rounds', 'routes', 'sale', 'sangrias', 'sardine', 'savory', 'scallop', 'scramble', 'scrub', 'seasonings', 'secrets', 'seperate', 'seven', 'shalimar', 'shawarma', 'sheets', 'showcasing', 'showtime', 'shumai', 'shuttles', 'sidebar', 'sincity', 'sisters', 'skateboards', 'skinny', 'skyfall', 'sleeves', 'slushi', 'smarty', 'smash', 'soho', 'sommeliers', 'spent', 'spinach', 'spiteful', 'splenda', 'squirrel', 'staining', 'stoner', 'stray', 'streak', 'street', 'substitute', 'sunbrella', 'sundance', 'super8', 'surly', 'surpasses', 'surrounding', 'swarm', 'swirly', 'tablecloth', 'taco', 'tagged', 'tantan', 'tarts', 'tattooer', 'tawny', 'teal', 'teas', 'technique', 'teeter', 'telephone', 'tense', 'tentative', 'tequilas', 'tgg', 'thad', 'thailand', 'thaipanangtom', 'ticozthe', 'timer', 'tings', 'tissue', 'tlc', 'toddy', 'torches', 'torturous', 'touching', 'towels', 'tracey', 'tresses', 'trio', 'trippy', 'twcg', 'undeniably', 'understandable', 'uneven', 'unholy', 'unlock', 'unpretentious', 'unreasonable', 'ups', 'urban', 'varieties', 'vegefi', 'vegetable', 'vibes', 'vivint', 'waaaaaay', 'wahoos', 'walks', 'walnuts', 'waterfalls', 'weighted', 'wet', 'whendy', 'whites', 'whitey', 'whoever', 'whole', 'wildest', 'wonder', 'woods', 'workouts', 'worlds', 'wraps', 'www', 'xrays', 'yarn', 'yoda', 'yoga', 'yoginis', 'youre', 'yuck', 'yummmmmm', 'zinelle', 'âgée', 'ça']\n"
     ]
    }
   ],
   "source": [
    "k = 4700\n",
    "top_k =np.argsort(coefficients)[-k:]\n",
    "bad_words = []\n",
    "bottom_k =np.argsort(coefficients)[:k]\n",
    "for i in range(len(sentiment.count_vect.get_feature_names())):\n",
    "    if i in top_k or i in bottom_k:\n",
    "        continue\n",
    "    else:\n",
    "        bad_words.append(sentiment.count_vect.get_feature_names()[i])\n",
    "print(bad_words)"
   ]
  },
  {
   "cell_type": "code",
   "execution_count": null,
   "metadata": {},
   "outputs": [],
   "source": []
  }
 ],
 "metadata": {
  "kernelspec": {
   "display_name": "Python 3",
   "language": "python",
   "name": "python3"
  },
  "language_info": {
   "codemirror_mode": {
    "name": "ipython",
    "version": 3
   },
   "file_extension": ".py",
   "mimetype": "text/x-python",
   "name": "python",
   "nbconvert_exporter": "python",
   "pygments_lexer": "ipython3",
   "version": "3.7.2"
  }
 },
 "nbformat": 4,
 "nbformat_minor": 2
}
